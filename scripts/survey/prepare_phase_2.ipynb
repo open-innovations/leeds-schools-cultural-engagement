{
 "cells": [
  {
   "cell_type": "markdown",
   "metadata": {},
   "source": [
    "# Data Preparation - Phase 2 Survey Responses"
   ]
  },
  {
   "cell_type": "markdown",
   "metadata": {},
   "source": [
    "Note: If there are issues running this script it is likely due to the column names in the raw data - it may need some more cleaning to remove special characters"
   ]
  },
  {
   "cell_type": "code",
   "execution_count": null,
   "metadata": {},
   "outputs": [],
   "source": [
    "import os \n",
    "import pandas as pd\n",
    "from pathlib import Path\n",
    "\n",
    "from survey_util import load_raw_survey_data, count_by_school_type, calculate_percentage, drop_duplicates"
   ]
  },
  {
   "cell_type": "code",
   "execution_count": null,
   "metadata": {},
   "outputs": [],
   "source": [
    "DATA_DIR = Path('../../data')\n",
    "SURVEY_DIR = DATA_DIR / 'survey'\n",
    "RAW_DIR = SURVEY_DIR / 'raw'\n",
    "\n",
    "VIZ_DIR = Path('../../src/_data/viz/survey/phase_2')\n",
    "\n",
    "raw_data = load_raw_survey_data()\n",
    "\n",
    "# Handle duplicates\n",
    "raw_data_deduped = drop_duplicates(raw_data)\n",
    "\n",
    "base_respondents = len(raw_data)\n",
    "\n",
    "SCHOOLS_DATA = pd.read_csv(Path(DATA_DIR, 'leeds_schools_public.csv'))\n",
    "\n",
    "# dfe_data = pd.read_csv(Path(DATA_DIR, 'spc_ees_school_characteristics.csv'), usecols={\n",
    "#     'time_period', \n",
    "#     'la_name',\n",
    "#     'school_urn',\n",
    "#     'school_name',\n",
    "#     'phase_type_grouping',\n",
    "#     'typeofestablishment_name',\n",
    "#     'ward_code',\n",
    "#     'ward_name',\n",
    "#     'school_postcode',\n",
    "#     'school_size'\n",
    "# })\n"
   ]
  },
  {
   "cell_type": "markdown",
   "metadata": {},
   "source": [
    "# Headline stats"
   ]
  },
  {
   "cell_type": "code",
   "execution_count": null,
   "metadata": {},
   "outputs": [],
   "source": [
    "headline_questions = [\n",
    "    \"5_overall_how_would_you_rate_your_schools_arts_curriculum_offer_answers_will_be_anonymised_and_data_will_not_be_linked_to_individual_schools\",\n",
    "    \"6_does_your_school_have_a_particular_commitments_to_pupil_entitlement_in_the_arts_eg_every_pupil_learns_a_musical_instrument_or_has_the_opportunity_to_go_on_trips_each_year\",\n",
    "    \"7_does_your_school_attract_additional_funding_for_arts_curriculum_or_enrichment_activity\",\n",
    "    \"10_does_your_school_actively_sign-post_opportunities_for_pupils_to_develop_creative_skills_and_participate_in_arts_opportunities_beyond_the_curriculum\",\n",
    "    \"14_how_would_you_rate_your_schools_extra-curricular_and_arts_enrichment_offer_answers_will_be_anonymised_and_data_will_not_be_linked_to_individual_schools\",\n",
    "    \"16_does_your_school_offer_arts_award\",\n",
    "    \"18_in_academic_year_202223_did_your_school_invite_organisations_or_creative_practitioners_into_the_school_to_deliver_arts_performances_workshops_or_other_creative_activities\",\n",
    "    \"24_does_your_school_have_a_partnership_with_any_local_arts_organisations_ie_a_relationship_with_an_organisation_that_the_school_has_worked_with_over_a_number_of_years\"\n",
    "]"
   ]
  },
  {
   "cell_type": "code",
   "execution_count": null,
   "metadata": {},
   "outputs": [],
   "source": [
    "excellent_arts_curriculum = int(((raw_data[\"5. Overall, how would you rate your school's arts curriculum offer? (Answers will be anonymised and data will not be linked to individual schools.)\"].value_counts().Excellent) / base_respondents * 100))\n",
    "pupil_arts_entitlement = int((len(raw_data.loc[raw_data['6. Does your school have a particular commitment(s) to pupil entitlement in the arts? (E.g., every pupil learns a musical instrument, or has the opportunity to go on trips each year.)']=='Yes']) / base_respondents * 100))\n",
    "additional_arts_funding = int((len(raw_data.loc[raw_data['7. Does your school attract additional funding for arts curriculum or enrichment activity?']=='Yes']) / base_respondents * 100))\n",
    "signposting_beyond_curriculum = int((len(raw_data.loc[raw_data['10. Does your school actively sign-post opportunities for pupils to develop creative skills and participate in arts opportunities beyond the curriculum?']=='Yes']) / base_respondents * 100))\n",
    "excellent_extra_curricular_arts = int(((raw_data[\"14. How would you rate your school's extra-curricular and arts enrichment offer? (Answers will be anonymised and data will not be linked to individual schools.)\"].value_counts().Excellent) / base_respondents * 100))\n",
    "arts_award = int((len(raw_data.loc[raw_data['16. Does your school offer Arts Award?']=='Yes']) / base_respondents * 100))\n",
    "external_orgs_arts_performances = int((len(raw_data.loc[raw_data['18. In academic year 2022/23, did your school invite organisations or creative practitioners into the school to deliver arts performances, workshops, or other creative activities?']=='Yes']) / base_respondents * 100))\n",
    "partnerships_external_orgs = int((len(raw_data.loc[raw_data['24. Does your school have a partnership with any local arts organisations, i.e. a relationship with an organisation that the school has worked with over a number of years?']=='Yes']) / base_respondents * 100))\n",
    "\n",
    "headlines_data = {\n",
    "    'Title': [\n",
    "        \"Arts curriculum\",\n",
    "        \"Arts entitlement\", \n",
    "        \"Additional arts funding\",\n",
    "        \"Signposting\",\n",
    "        \"Extra-curricular offering\",\n",
    "        \"Arts award\",\n",
    "        \"External practitioners\",\n",
    "        \"Local partnerships\",\n",
    "    ],\n",
    "    'Value': [\n",
    "        excellent_arts_curriculum,\n",
    "        pupil_arts_entitlement,\n",
    "        additional_arts_funding,\n",
    "        signposting_beyond_curriculum,\n",
    "        excellent_extra_curricular_arts,\n",
    "        arts_award,\n",
    "        external_orgs_arts_performances,\n",
    "        partnerships_external_orgs\n",
    "    ],\n",
    "    'Note': [\n",
    "        \"Rated their arts curriculum as Excellent\",\n",
    "        \"Said they have a commitment to pupil entitlement in the arts\",\n",
    "        \"Said they seek additional funding for arts curriculum and enrichment\",\n",
    "        \"Said they sign-post additional creative opportunities for students\",\n",
    "        \"Rated their extra-curricular arts offering as Excellent\",\n",
    "        \"Said their school offers an Arts Award\",\n",
    "        \"Said they invited external creative practitioners into the school\",\n",
    "        \"Said their school has a partnership with local arts organisations\"\n",
    "    ],\n",
    "    'Suffix': ['%'] * 8\n",
    "}\n",
    "\n",
    "headlines = pd.DataFrame(headlines_data)\n",
    "os.makedirs(VIZ_DIR, exist_ok=True)\n",
    "headlines.to_csv(os.path.join(VIZ_DIR, 'headlines.csv'), index=False)"
   ]
  },
  {
   "cell_type": "markdown",
   "metadata": {},
   "source": [
    "## Overview of Respondents"
   ]
  },
  {
   "cell_type": "markdown",
   "metadata": {},
   "source": [
    "Survey responses by school type"
   ]
  },
  {
   "cell_type": "code",
   "execution_count": null,
   "metadata": {},
   "outputs": [],
   "source": [
    "# Responses broken down by school type\n",
    "\n",
    "by_school_type = pd.DataFrame({\n",
    "    'total_respondents' : raw_data_deduped.groupby('03_school_type')['03_school_type'].count(),\n",
    "    'percent_respondents': raw_data_deduped.groupby('03_school_type')['03_school_type'].count().div(base_respondents).mul(100).round(0).astype(int),\n",
    "    'unit': '%',\n",
    "    'notes': [\n",
    "        'were from a Primary school',\n",
    "        'were from a Secondary school',\n",
    "        'were from a Special school',\n",
    "        'were from a Through school'\n",
    "    ]\n",
    "}).to_csv(os.path.join(VIZ_DIR, 'by_school_type.csv'))"
   ]
  },
  {
   "cell_type": "markdown",
   "metadata": {},
   "source": [
    "## Arts Provision in Schools\n",
    "\n",
    "Commitment to the arts"
   ]
  },
  {
   "cell_type": "code",
   "execution_count": null,
   "metadata": {},
   "outputs": [],
   "source": [
    "# 06_pupil_arts_entitlement\n",
    "\n",
    "pupil_arts_entitlement = (\n",
    "    raw_data_deduped.groupby(['03_school_type', '06_pupil_arts_entitlement'])\n",
    "    .size()\n",
    "    .unstack(fill_value=0)\n",
    "    .apply(lambda x: (x / x.sum()) * 100, axis=1)\n",
    "    .round(0)\n",
    "    .astype(int)\n",
    "    .reset_index()\n",
    "    .rename(columns={'03_school_type': 'School Type'})\n",
    ")\n",
    "\n",
    "pupil_arts_entitlement['Suffix'] = '%'\n",
    "pupil_arts_entitlement.to_csv(Path(VIZ_DIR, 'pupil_arts_entitlement.csv'), index=False)\n"
   ]
  },
  {
   "cell_type": "code",
   "execution_count": null,
   "metadata": {},
   "outputs": [],
   "source": [
    "# 05_overall_rating_arts_offer - deduped data\n",
    "overall_rating_arts_offer = (\n",
    "    raw_data_deduped.groupby(['03_school_type', '05_overall_rating_arts_offer'])\n",
    "    .size()\n",
    "    .unstack(fill_value=0)\n",
    "    .apply(lambda x: (x / x.sum()) * 100, axis=1)\n",
    "    .round(0)\n",
    "    .astype(int)\n",
    "    .reset_index()\n",
    "    .rename(columns={'03_school_type': 'School Type'})\n",
    "    .pivot_table(columns='School Type')\n",
    "    .reset_index()\n",
    "    .rename(columns={'index': 'Rating'})\n",
    ")\n",
    "\n",
    "overall_rating_arts_offer['Suffix'] = '%'\n",
    "overall_rating_arts_offer.to_csv(Path(VIZ_DIR, 'overall_rating_arts_offer.csv'), index=False)\n"
   ]
  },
  {
   "cell_type": "code",
   "execution_count": null,
   "metadata": {},
   "outputs": [],
   "source": [
    "# 14_rating_extra_curricular_arts_enrichment_offering - deduped data\n",
    "\n",
    "rating_extra_curricular_arts_enrichment_offering = (\n",
    "    raw_data_deduped.groupby(['03_school_type', '14_rating_extra_curricular_arts_enrichment_offering'])\n",
    "    .size()\n",
    "    .unstack(fill_value=0)\n",
    "    .apply(lambda x: (x / x.sum()) * 100, axis=1)\n",
    "    .round(0)\n",
    "    .astype(int)\n",
    "    .reset_index()\n",
    "    .rename(columns={'03_school_type': 'School Type'})\n",
    "    .pivot_table(columns='School Type')\n",
    "    .reset_index()\n",
    "    .rename(columns={'index': 'Rating'})\n",
    ")\n",
    "\n",
    "rating_extra_curricular_arts_enrichment_offering['Suffix'] = '%'\n",
    "rating_extra_curricular_arts_enrichment_offering.to_csv(Path(VIZ_DIR, 'rating_extra_curricular_arts_enrichment_offering.csv'), index=False)\n"
   ]
  },
  {
   "cell_type": "markdown",
   "metadata": {},
   "source": [
    "Signposting headlines"
   ]
  },
  {
   "cell_type": "code",
   "execution_count": null,
   "metadata": {},
   "outputs": [],
   "source": [
    "# Signposting headlines - percentage of total survey responses\n",
    "\n",
    "signposting = raw_data.loc[raw_data['10_signposting_beyond_curriculum']=='Yes']\n",
    "competitions = raw_data.loc[raw_data['09_competitions_showcases']=='Yes']\n",
    "\n",
    "responses = pd.DataFrame({\n",
    "    'Competitions & Showcases' : [int(len(competitions)/base_respondents*100)],\n",
    "    'Signposting beyond the curriculum': [int(len(signposting)/base_respondents*100)]\n",
    "}).T.reset_index()\n",
    "\n",
    "responses.columns = ['Headlines', 'Values']\n",
    "\n",
    "Note = [\n",
    "        'actively sign-post for pupils to develop creative skills and participate in arts opportunities beyond the curriculum',\n",
    "        'enter pupils into competitions or showcases - whether that is at a local community or regional/national level'\n",
    "    ]\n",
    "\n",
    "signposting_headlines = pd.DataFrame({\n",
    "    'Headlines': responses['Headlines'],\n",
    "    'Value': responses['Values'],\n",
    "    'Suffix': '%',\n",
    "    'Note': Note\n",
    "}).to_csv(Path(VIZ_DIR, 'signposting_headlines.csv'), index=False)\n"
   ]
  },
  {
   "cell_type": "markdown",
   "metadata": {},
   "source": [
    "### Opinions on the arts curriculum"
   ]
  },
  {
   "cell_type": "markdown",
   "metadata": {},
   "source": [
    "Do you consider your school to lack any particular areas of expertise in delivering the arts curriculum?"
   ]
  },
  {
   "cell_type": "markdown",
   "metadata": {},
   "source": [
    "Do you consider your school to be an exemplar in any areas of the arts curriculum?"
   ]
  },
  {
   "cell_type": "code",
   "execution_count": null,
   "metadata": {},
   "outputs": [],
   "source": [
    "# 34_school_exemplar_arts_curriculum\n",
    "# 33_school_lacking_expertise_arts_curriculum\n",
    "\n",
    "school_exemplar_arts_curriculum = raw_data.loc[raw_data['34_school_exemplar_arts_curriculum']=='Yes']\n",
    "school_lacking_expertise_arts_curriculum = raw_data.loc[raw_data['33_school_lacking_expertise_arts_curriculum']=='Yes']\n",
    "\n",
    "responses = pd.DataFrame({\n",
    "    'Curriculum Exemplar' : [int(len(school_exemplar_arts_curriculum)/base_respondents*100)],\n",
    "    'Lacking Expertise': [int(len(school_lacking_expertise_arts_curriculum)/base_respondents*100)],\n",
    "}).T.reset_index()\n",
    "\n",
    "responses.columns = ['Headlines', 'Values']\n",
    "\n",
    "Note = [\n",
    "        'consider their school to be an exemplar in areas of the arts curriculum',\n",
    "        'consider their school to lack areas of expertise in delivering the arts curriculum',\n",
    "    ]\n",
    "\n",
    "signposting_headlines = pd.DataFrame({\n",
    "    'Headlines': responses['Headlines'],\n",
    "    'Value': responses['Values'],\n",
    "    'Suffix': '%',\n",
    "    'Note': Note\n",
    "}).to_csv(Path(VIZ_DIR, 'school_expertise_headlines.csv'), index=False)\n",
    "\n",
    "\n",
    "print(school_exemplar_arts_curriculum['34_school_exemplar_arts_curriculum'])"
   ]
  },
  {
   "cell_type": "markdown",
   "metadata": {},
   "source": [
    "External practitioners"
   ]
  },
  {
   "cell_type": "code",
   "execution_count": null,
   "metadata": {},
   "outputs": [],
   "source": [
    "partnerships_external_orgs = raw_data.loc[raw_data['24_partnerships_external_orgs']=='Yes']\n",
    "external_orgs_arts_performances = raw_data.loc[raw_data['18_external_orgs_arts_performances']=='Yes']\n",
    "partnerships_local_schools = raw_data.loc[raw_data['25_partnerships_local_schools']=='Yes']\n",
    "\n",
    "responses = pd.DataFrame({\n",
    "    'Partnerships' : [int(len(partnerships_external_orgs)/base_respondents*100)],\n",
    "    'Delivering activities': [int(len(external_orgs_arts_performances)/base_respondents*100)],\n",
    "    'School partnerships': [int(len(partnerships_local_schools)/base_respondents*100)]\n",
    "}).T.reset_index()\n",
    "\n",
    "responses.columns = ['Headlines', 'Values']\n",
    "\n",
    "Note = [\n",
    "        'said they have a partnership with any local arts organisations',\n",
    "        'said their school invites external practitioners to deliver creative activities',\n",
    "        'said their school partners with other schools to support the arts curriculum'\n",
    "    ]\n",
    "\n",
    "signposting_headlines = pd.DataFrame({\n",
    "    'Headlines': responses['Headlines'],\n",
    "    'Value': responses['Values'],\n",
    "    'Suffix': '%',\n",
    "    'Note': Note\n",
    "}).to_csv(Path(VIZ_DIR, 'external_partnerships_headlines.csv'), index=False)"
   ]
  },
  {
   "cell_type": "markdown",
   "metadata": {},
   "source": [
    "Subject areas of the organisations and creative practitioners engaging with schools:"
   ]
  },
  {
   "cell_type": "code",
   "execution_count": null,
   "metadata": {},
   "outputs": [],
   "source": [
    "# Subject areas of external practitioners - deduped data\n",
    "\n",
    "subject_areas = raw_data_deduped[['02_school_name', '03_school_type', '18a_arts_performance_external_org_subject_areas']].dropna().reset_index()\n",
    "\n",
    "subject_areas['18a_arts_performance_external_org_subject_areas'] = subject_areas['18a_arts_performance_external_org_subject_areas'].str.split(',')\n",
    "subject_areas = subject_areas.explode('18a_arts_performance_external_org_subject_areas').drop(columns={'unique_response_number'})\n",
    "\n",
    "subject_areas = subject_areas.groupby(['03_school_type', '18a_arts_performance_external_org_subject_areas']).count().reset_index()\n",
    "\n",
    "subject_areas = subject_areas.rename(columns={\n",
    "    '03_school_type': 'School Type',\n",
    "    '18a_arts_performance_external_org_subject_areas': 'Subject Area',\n",
    "    '02_school_name': 'Count'\n",
    "})\n",
    "\n",
    "counts_by_school_type = count_by_school_type(raw_data_deduped)\n",
    "\n",
    "subject_areas['Percent'] = subject_areas.apply(lambda row: calculate_percentage(row, counts_by_school_type), axis=1)\n",
    "\n",
    "subject_areas = subject_areas.pivot_table(columns=['School Type'], index=['Subject Area'], values=['Percent']).reset_index().set_index('Subject Area')\n",
    "\n",
    "subject_areas.columns = ['Primary', 'Secondary', 'Special School', 'Through School']\n",
    "\n",
    "subject_areas = subject_areas.fillna(0).astype(int)\n",
    "\n",
    "subject_areas.to_csv(Path(VIZ_DIR, 'subject_areas_headlines.csv'), index=True)\n",
    "\n",
    "subject_areas\n"
   ]
  },
  {
   "cell_type": "markdown",
   "metadata": {},
   "source": [
    "Community arts programmes:"
   ]
  },
  {
   "cell_type": "code",
   "execution_count": null,
   "metadata": {},
   "outputs": [],
   "source": [
    "# Community programs - total survey responses\n",
    "\n",
    "community_based_arts_programmes = raw_data.loc[raw_data['26_community_based_arts_programmes']=='Yes']\n",
    "national_arts_programmes = raw_data.loc[raw_data['23_national_programmes']=='Yes']\n",
    "\n",
    "responses = pd.DataFrame({\n",
    "    'Community-based arts programmes' : [int(len(community_based_arts_programmes)/base_respondents*100)],\n",
    "    'National arts programmes' : [int(len(national_arts_programmes)/base_respondents*100)],\n",
    "}).T.reset_index()\n",
    "\n",
    "responses.columns = ['Headlines', 'Values']\n",
    "\n",
    "Note = [\n",
    "        'said their school is part of a local/community-based arts programme.',\n",
    "        'said their school is part of a national arts programme.',\n",
    "    ]\n",
    "\n",
    "signposting_headlines = pd.DataFrame({\n",
    "    'Headlines': responses['Headlines'],\n",
    "    'Value': responses['Values'],\n",
    "    'Suffix': '%',\n",
    "    'Note': Note\n",
    "}).to_csv(Path(VIZ_DIR, 'community_programs_headlines.csv'), index=False)"
   ]
  },
  {
   "cell_type": "markdown",
   "metadata": {},
   "source": [
    "## Facilities"
   ]
  },
  {
   "cell_type": "code",
   "execution_count": null,
   "metadata": {},
   "outputs": [],
   "source": [
    "# Facilities - deduped data\n",
    "\n",
    "facilities = raw_data_deduped[['02_school_name', '03_school_type', '13_arts_facilities']].dropna().reset_index()\n",
    "\n",
    "\n",
    "facilities['13_arts_facilities'] = facilities['13_arts_facilities'].str.split(',')\n",
    "facilities = facilities.explode('13_arts_facilities').drop(columns={'unique_response_number'})\n",
    "\n",
    "facilities = facilities.groupby(['03_school_type', '13_arts_facilities']).size().reset_index(name='Count')\n",
    "\n",
    "counts_by_school_type = count_by_school_type(raw_data_deduped)\n",
    "\n",
    "facilities['Total'] = facilities.groupby('03_school_type')['Count'].transform('sum').round(0)\n",
    "\n",
    "facilities['Percent'] = ((facilities['Count'] / facilities['Total']) * 100).round(0).astype(int)\n",
    "\n",
    "facilities_pivot = facilities.pivot_table(index='13_arts_facilities', columns='03_school_type', values='Percent', fill_value=0)\n",
    "\n",
    "# facilities_pivot['Total'] = facilities_pivot.sum(axis=1).round(0).astype(int)\n",
    "\n",
    "facilities_pivot.reset_index(inplace=True)\n",
    "\n",
    "facilities_pivot.columns.name = None \n",
    "facilities_pivot.rename(columns={'Primary': 'Primary', 'Secondary': 'Secondary', 'Special': 'Special School', 'Through': 'Through School'}, inplace=True)\n",
    "\n",
    "facilities_pivot.to_csv(Path(VIZ_DIR, 'facilities.csv'), index=False)\n",
    "\n",
    "facilities\n"
   ]
  },
  {
   "cell_type": "markdown",
   "metadata": {},
   "source": [
    "## Funding & Support"
   ]
  },
  {
   "cell_type": "markdown",
   "metadata": {},
   "source": [
    "Does your school attract addition funding for arts curriculum or enrichment activity?"
   ]
  },
  {
   "cell_type": "code",
   "execution_count": null,
   "metadata": {},
   "outputs": [],
   "source": [
    "# 07_additional_arts_funding\n",
    "\n",
    "funding = raw_data_deduped[['02_school_name', '03_school_type', '07_additional_arts_funding']].dropna().reset_index()\n",
    "\n",
    "primary_schools = funding.loc[(funding['07_additional_arts_funding'] =='Yes') & (funding['03_school_type'] =='Primary')]\n",
    "secondary_schools = funding.loc[(funding['07_additional_arts_funding'] =='Yes') & (funding['03_school_type'] =='Secondary')]\n",
    "through_schools = funding.loc[(funding['07_additional_arts_funding'] =='Yes') & (funding['03_school_type'] =='Through School')]\n",
    "special_schools = funding.loc[(funding['07_additional_arts_funding'] =='Yes') & (funding['03_school_type'] =='Special School')]\n",
    "\n",
    "counts_by_school_type = count_by_school_type(raw_data_deduped)\n",
    "\n",
    "responses = pd.DataFrame({\n",
    "    'Primary' : [int(len(primary_schools)/(counts_by_school_type[counts_by_school_type['03_school_type']=='Primary'].Count.item())*100)],\n",
    "    'Secondary' : [int(len(secondary_schools)/(counts_by_school_type[counts_by_school_type['03_school_type']=='Secondary'].Count.item())*100)],\n",
    "    'Through Schools' : [int(len(through_schools)/(counts_by_school_type[counts_by_school_type['03_school_type']=='Through School'].Count.item())*100)],\n",
    "    'Special Schools' : [int(len(special_schools)/(counts_by_school_type[counts_by_school_type['03_school_type']=='Special School'].Count.item())*100)],\n",
    "}).T.reset_index()\n",
    "\n",
    "responses.columns = ['Headlines', 'Values']\n",
    "\n",
    "Note = [\n",
    "        'of Primary schools said they attract additional funding for arts curriculum or enrichment activity.',\n",
    "        'of Secondary schools said they attract additional funding for arts curriculum or enrichment activity.',\n",
    "        'of Through schools said they attract additional funding for arts curriculum or enrichment activity.',\n",
    "        'of Special schools said they attract additional funding for arts curriculum or enrichment activity.',\n",
    "    ]\n",
    "\n",
    "funding_headlines = pd.DataFrame({\n",
    "    'Headlines': responses['Headlines'],\n",
    "    'Value': responses['Values'],\n",
    "    'Suffix': '%',\n",
    "    'Note': Note\n",
    "}).to_csv(Path(VIZ_DIR, 'funding_headlines.csv'), index=False)"
   ]
  },
  {
   "cell_type": "markdown",
   "metadata": {},
   "source": [
    "Funding sources for provision of art curriculum and enrichment activity:"
   ]
  },
  {
   "cell_type": "code",
   "execution_count": null,
   "metadata": {},
   "outputs": [],
   "source": [
    "# 07a_arts_funding_sources\n",
    "\n",
    "funding_sources = raw_data_deduped[['02_school_name', '03_school_type', '07a_arts_funding_sources']].dropna().reset_index()\n",
    "\n",
    "funding_sources['07a_arts_funding_sources'] = funding_sources['07a_arts_funding_sources'].str.split(',')\n",
    "funding_sources = funding_sources.explode('07a_arts_funding_sources').drop(columns={'unique_response_number'})\n",
    "\n",
    "funding_sources = funding_sources.groupby(['03_school_type', '07a_arts_funding_sources']).count().reset_index()\n",
    "\n",
    "funding_sources = funding_sources.rename(columns={\n",
    "    '03_school_type': 'School Type',\n",
    "    '07a_arts_funding_sources': 'funding_sources',\n",
    "    '02_school_name': 'Count'\n",
    "})\n",
    "\n",
    "counts_by_school_type = count_by_school_type(raw_data_deduped)\n",
    "\n",
    "funding_sources['Percent'] = funding_sources.apply(lambda row: calculate_percentage(row, counts_by_school_type), axis=1)\n",
    "\n",
    "funding_sources_pivot = funding_sources.pivot_table(columns=['School Type'], index=['funding_sources'], values=['Percent']).reset_index().set_index('funding_sources')\n",
    "\n",
    "funding_sources_pivot.columns = ['Primary', 'Secondary', 'Special School', 'Through School']\n",
    "\n",
    "funding_sources_pivot = funding_sources_pivot.fillna(0).astype(int)\n",
    "\n",
    "funding_sources_pivot['Suffix'] = '%'\n",
    "\n",
    "funding_sources_pivot.to_csv(Path(VIZ_DIR, 'funding_sources_headlines.csv'), index=True)\n",
    "\n",
    "funding_sources_pivot\n"
   ]
  },
  {
   "cell_type": "markdown",
   "metadata": {},
   "source": [
    "## Trips"
   ]
  },
  {
   "cell_type": "markdown",
   "metadata": {},
   "source": [
    "Does your school take pupils on arts trips outside the school?"
   ]
  },
  {
   "cell_type": "code",
   "execution_count": null,
   "metadata": {},
   "outputs": [],
   "source": [
    "# 19_arts_trips\n",
    "\n",
    "trips = raw_data_deduped[['02_school_name', '03_school_type', '19_arts_trips']].dropna().reset_index()\n",
    "\n",
    "primary_schools = trips.loc[(trips['19_arts_trips'] =='Yes') & (trips['03_school_type'] =='Primary')]\n",
    "secondary_schools = trips.loc[(trips['19_arts_trips'] =='Yes') & (trips['03_school_type'] =='Secondary')]\n",
    "through_schools = trips.loc[(trips['19_arts_trips'] =='Yes') & (trips['03_school_type'] =='Through School')]\n",
    "special_schools = trips.loc[(trips['19_arts_trips'] =='Yes') & (trips['03_school_type'] =='Special School')]\n",
    "\n",
    "counts_by_school_type = count_by_school_type(raw_data_deduped)\n",
    "\n",
    "responses = pd.DataFrame({\n",
    "    'Primary' : [int(len(primary_schools)/(counts_by_school_type[counts_by_school_type['03_school_type']=='Primary'].Count.item())*100)],\n",
    "    'Secondary' : [int(len(secondary_schools)/(counts_by_school_type[counts_by_school_type['03_school_type']=='Secondary'].Count.item())*100)],\n",
    "    'Through Schools' : [int(len(through_schools)/(counts_by_school_type[counts_by_school_type['03_school_type']=='Through School'].Count.item())*100)],\n",
    "    'Special Schools' : [int(len(special_schools)/(counts_by_school_type[counts_by_school_type['03_school_type']=='Special School'].Count.item())*100)],\n",
    "}).T.reset_index()\n",
    "\n",
    "responses.columns = ['Headlines', 'Values']\n",
    "\n",
    "Note = [\n",
    "        'of Primary schools said they take pupils on arts trips outside the school.',\n",
    "        'of Secondary schools said they take pupils on arts trips outside the school.',\n",
    "        'of Through schools said they take pupils on arts trips outside the school.',\n",
    "        'of Special schools said they take pupils on arts trips outside the school.',\n",
    "    ]\n",
    "\n",
    "arts_trips_headlines = pd.DataFrame({\n",
    "    'Headlines': responses['Headlines'],\n",
    "    'Value': responses['Values'],\n",
    "    'Suffix': '%',\n",
    "    'Note': Note\n",
    "}).to_csv(Path(VIZ_DIR, 'arts_trips_headlines.csv'), index=False)\n"
   ]
  },
  {
   "cell_type": "markdown",
   "metadata": {},
   "source": [
    "Typically, how are your school's arts trips funded?"
   ]
  },
  {
   "cell_type": "code",
   "execution_count": null,
   "metadata": {},
   "outputs": [],
   "source": [
    "# 19a_arts_trips_funding\n",
    "\n",
    "arts_trips_funding = raw_data_deduped[['02_school_name', '03_school_type', '19a_arts_trips_funding']].dropna().reset_index()\n",
    "\n",
    "arts_trips_funding['19a_arts_trips_funding'] = arts_trips_funding['19a_arts_trips_funding'].str.split(',')\n",
    "arts_trips_funding = arts_trips_funding.explode('19a_arts_trips_funding').drop(columns={'unique_response_number'})\n",
    "\n",
    "arts_trips_funding = arts_trips_funding.groupby(['03_school_type', '19a_arts_trips_funding']).count().reset_index()\n",
    "\n",
    "arts_trips_funding = arts_trips_funding.rename(columns={\n",
    "    '03_school_type': 'School Type',\n",
    "    '19a_arts_trips_funding': 'arts_trips_funding',\n",
    "    '02_school_name': 'Count'\n",
    "})\n",
    "\n",
    "counts_by_school_type = count_by_school_type(raw_data_deduped)\n",
    "\n",
    "arts_trips_funding['Percent'] = arts_trips_funding.apply(lambda row: calculate_percentage(row, counts_by_school_type), axis=1)\n",
    "\n",
    "arts_trips_funding['arts_trips_funding'] = arts_trips_funding['arts_trips_funding'].str.replace('â€™', \"'\")\n",
    "arts_trips_funding['arts_trips_funding'] = arts_trips_funding['arts_trips_funding'].str.replace('From core school funding', \"Core school funding\")\n",
    "\n",
    "arts_trips_funding_pivot = arts_trips_funding.pivot_table(columns=['School Type'], index=['arts_trips_funding'], values=['Percent']).reset_index().set_index('arts_trips_funding')\n",
    "\n",
    "arts_trips_funding_pivot.columns = ['Primary', 'Secondary', 'Special School', 'Through School']\n",
    "\n",
    "arts_trips_funding_pivot = arts_trips_funding_pivot.fillna(0).astype(int)\n",
    "\n",
    "arts_trips_funding_pivot['Suffix'] = '%'\n",
    "\n",
    "arts_trips_funding_pivot.to_csv(Path(VIZ_DIR, 'arts_trips_funding_headlines.csv'), index=True)\n",
    "\n",
    "arts_trips_funding_pivot"
   ]
  },
  {
   "cell_type": "markdown",
   "metadata": {},
   "source": [
    "Which of the following did you undertake in academic year 2022/23?"
   ]
  },
  {
   "cell_type": "code",
   "execution_count": null,
   "metadata": {},
   "outputs": [],
   "source": [
    "# 20_trips_undertaken_22_23\n",
    "\n",
    "trips_undertaken = raw_data_deduped[['02_school_name', '03_school_type', '20_trips_undertaken_22_23']].dropna().reset_index()\n",
    "\n",
    "trips_undertaken['20_trips_undertaken_22_23'] = trips_undertaken['20_trips_undertaken_22_23'].str.split(',')\n",
    "trip_types = trips_undertaken.explode('20_trips_undertaken_22_23').drop(columns={'unique_response_number'})\n",
    "\n",
    "trip_types = trip_types.groupby(['03_school_type', '20_trips_undertaken_22_23']).count().reset_index()\n",
    "\n",
    "trip_types = trip_types.rename(columns={\n",
    "    '03_school_type': 'School Type',\n",
    "    '20_trips_undertaken_22_23': 'trip_types',\n",
    "    '02_school_name': 'Count'\n",
    "})\n",
    "\n",
    "counts_by_school_type = count_by_school_type(raw_data_deduped)\n",
    "\n",
    "trip_types['Percent'] = trip_types.apply(lambda row: calculate_percentage(row, counts_by_school_type), axis=1)\n",
    "\n",
    "trip_types['trip_types'] = trip_types['trip_types'].str.replace(\"(\", '').str.replace(\")\", '').str.replace(\n",
    "    \"Trips to a library other than your own school library\", 'Trips to a library')\n",
    "\n",
    "trip_types_pivot = trip_types.pivot_table(columns=['School Type'], index=['trip_types'], values=['Percent']).reset_index().set_index('trip_types')\n",
    "\n",
    "trip_types_pivot.columns = ['Primary', 'Secondary', 'Special School', 'Through School']\n",
    "\n",
    "trip_types_pivot = trip_types_pivot.fillna(0).astype(int)\n",
    "\n",
    "trip_types_pivot['Suffix'] = '%'\n",
    "\n",
    "trip_types_pivot.to_csv(Path(VIZ_DIR, 'trip_types_headlines.csv'), index=True)\n"
   ]
  },
  {
   "cell_type": "markdown",
   "metadata": {},
   "source": [
    "Threatre trip locations..."
   ]
  },
  {
   "cell_type": "code",
   "execution_count": null,
   "metadata": {},
   "outputs": [],
   "source": [
    "# 20b_theatre_trip_locations\n",
    "\n",
    "theatre_trips = raw_data_deduped[['02_school_name', '03_school_type', '20b_theatre_trip_locations']].dropna().reset_index()\n",
    "\n",
    "theatre_trips['20b_theatre_trip_locations'] = theatre_trips['20b_theatre_trip_locations'].str.split(',')\n",
    "theatre_trip_locations = theatre_trips.explode('20b_theatre_trip_locations').drop(columns={'unique_response_number'})\n",
    "\n",
    "theatre_trip_locations = theatre_trip_locations.groupby(['03_school_type', '20b_theatre_trip_locations']).count().reset_index()\n",
    "\n",
    "theatre_trip_locations = theatre_trip_locations.rename(columns={\n",
    "    '03_school_type': 'School Type',\n",
    "    '20b_theatre_trip_locations': 'theatre_trip_locations',\n",
    "    '02_school_name': 'Count'\n",
    "})\n",
    "\n",
    "counts_by_school_type = count_by_school_type(raw_data_deduped)\n",
    "\n",
    "theatre_trip_locations['Percent'] = theatre_trip_locations.apply(lambda row: calculate_percentage(row, counts_by_school_type), axis=1)\n",
    "\n",
    "theatre_trip_locations_pivot = theatre_trip_locations.pivot_table(columns=['School Type'], index=['theatre_trip_locations'], values=['Percent']).reset_index().set_index('theatre_trip_locations')\n",
    "\n",
    "theatre_trip_locations_pivot.columns = ['Primary', 'Secondary', 'Special School', 'Through School']\n",
    "\n",
    "theatre_trip_locations_pivot = theatre_trip_locations_pivot.fillna(0).astype(int)\n",
    "\n",
    "theatre_trip_locations_pivot['Suffix'] = '%'\n",
    "\n",
    "theatre_trip_locations_pivot.to_csv(Path(VIZ_DIR, 'theatre_trip_locations_headlines.csv'), index=True)"
   ]
  },
  {
   "cell_type": "markdown",
   "metadata": {},
   "source": [
    "## Barriers"
   ]
  },
  {
   "cell_type": "markdown",
   "metadata": {},
   "source": [
    "Regarding access, diversity, and inclusion, does your school experience any barriers or challenges in encouraging, recruiting, or gaining permissions for pupils to go on trips out of school?"
   ]
  },
  {
   "cell_type": "markdown",
   "metadata": {},
   "source": [
    "Regarding access, diversity, and inclusion, does your school experience any barriers or challenges with the experience or facilities at host venues when taking pupils on trips out of the school?"
   ]
  },
  {
   "cell_type": "code",
   "execution_count": null,
   "metadata": {},
   "outputs": [],
   "source": [
    "# 21_barriers_encouraging_recruiting_permissions_trips\n",
    "# 22_barriers_facilities_host_venues_trips\n",
    "\n",
    "barriers_encouraging_recruiting_permissions_trips = raw_data.loc[raw_data['21_barriers_encouraging_recruiting_permissions_trips']=='Yes']\n",
    "barriers_facilities_host_venues_trips = raw_data.loc[raw_data['22_barriers_facilities_host_venues_trips']=='Yes']\n",
    "\n",
    "responses = pd.DataFrame({\n",
    "    'Barriers with trips' : [int(len(barriers_encouraging_recruiting_permissions_trips)/base_respondents*100)],\n",
    "    'Barriers with host venues': [int(len(barriers_facilities_host_venues_trips)/base_respondents*100)],\n",
    "}).T.reset_index()\n",
    "\n",
    "responses.columns = ['Headlines', 'Values']\n",
    "\n",
    "Note = [\n",
    "        'have experienced barriers in facilitating trips out of school',\n",
    "        'have experienced barriers or challenges with the experience at host venues',\n",
    "    ]\n",
    "\n",
    "signposting_headlines = pd.DataFrame({\n",
    "    'Headlines': responses['Headlines'],\n",
    "    'Value': responses['Values'],\n",
    "    'Suffix': '%',\n",
    "    'Note': Note\n",
    "}).to_csv(Path(VIZ_DIR, 'barriers_headlines.csv'), index=False)"
   ]
  },
  {
   "cell_type": "code",
   "execution_count": null,
   "metadata": {},
   "outputs": [],
   "source": [
    "# 28_partnerships_diversity_challenges\n",
    "\n",
    "partnerships_diversity_challenges = raw_data.loc[raw_data['28_partnerships_diversity_challenges']=='Yes']\n",
    "\n",
    "responses = pd.DataFrame({\n",
    "    'Diversity challenges' : [int(len(partnerships_diversity_challenges)/base_respondents*100)],\n",
    "}).T.reset_index()\n",
    "\n",
    "responses.columns = ['Headlines', 'Values']\n",
    "\n",
    "Note = [\n",
    "        'are able to find arts delivery partners who reflect the diversity of their pupils',\n",
    "    ]\n",
    "\n",
    "signposting_headlines = pd.DataFrame({\n",
    "    'Headlines': responses['Headlines'],\n",
    "    'Value': responses['Values'],\n",
    "    'Suffix': '%',\n",
    "    'Note': Note\n",
    "}).to_csv(Path(VIZ_DIR, 'diversity_challenges_headline.csv'), index=False)\n",
    "\n"
   ]
  },
  {
   "cell_type": "markdown",
   "metadata": {},
   "source": [
    "## Careers"
   ]
  },
  {
   "cell_type": "markdown",
   "metadata": {},
   "source": [
    "Careers & student progression headlines"
   ]
  },
  {
   "cell_type": "code",
   "execution_count": null,
   "metadata": {},
   "outputs": [],
   "source": [
    "# 30_specialist_creative_career_advice\n",
    "# 29_pupil_practitioner_engagement_opportunities\n",
    "# 32_supporting_teacher_cpd\n",
    "# 31_data_pupil_progression_creative_education\n",
    "\n",
    "specialist_creative_career_advice = raw_data.loc[raw_data['30_specialist_creative_career_advice']=='Yes']\n",
    "pupil_practitioner_engagement_opportunities = raw_data.loc[raw_data['29_pupil_practitioner_engagement_opportunities']=='Yes']\n",
    "supporting_teacher_cpd = raw_data.loc[raw_data['32_supporting_teacher_cpd']=='Yes']\n",
    "data_pupil_progression_creative_education = raw_data.loc[raw_data['31_data_pupil_progression_creative_education']=='Yes']\n",
    "\n",
    "\n",
    "responses = pd.DataFrame({\n",
    "    'Creative career advice' : [int(len(specialist_creative_career_advice)/base_respondents*100)],\n",
    "    'Practitioner engagement opportunities': [int(len(pupil_practitioner_engagement_opportunities)/base_respondents*100)],\n",
    "    'Supporting teacher CPD': [int(len(supporting_teacher_cpd)/base_respondents*100)],\n",
    "    'Pupil Progression' : [int(len(data_pupil_progression_creative_education)/base_respondents*100)],\n",
    "}).T.reset_index()\n",
    "\n",
    "responses.columns = ['Headlines', 'Values']\n",
    "\n",
    "Note = [\n",
    "        'of schools have someone able to give specialist advice on career pathways into the arts',\n",
    "        'give pupils opportunities to engage with arts practitioners',\n",
    "        \"of schools support teachers' CPD in arts subjects\",\n",
    "        'hold data on pupil progression to study arts in further or higher education',\n",
    "    ]\n",
    "\n",
    "signposting_headlines = pd.DataFrame({\n",
    "    'Headlines': responses['Headlines'],\n",
    "    'Value': responses['Values'],\n",
    "    'Suffix': '%',\n",
    "    'Note': Note\n",
    "}).to_csv(Path(VIZ_DIR, 'careers_headlines.csv'), index=False)\n",
    "\n"
   ]
  },
  {
   "cell_type": "code",
   "execution_count": null,
   "metadata": {},
   "outputs": [],
   "source": []
  }
 ],
 "metadata": {
  "kernelspec": {
   "display_name": "mce-env",
   "language": "python",
   "name": "python3"
  },
  "language_info": {
   "codemirror_mode": {
    "name": "ipython",
    "version": 3
   },
   "file_extension": ".py",
   "mimetype": "text/x-python",
   "name": "python",
   "nbconvert_exporter": "python",
   "pygments_lexer": "ipython3",
   "version": "3.12.4"
  },
  "orig_nbformat": 4
 },
 "nbformat": 4,
 "nbformat_minor": 2
}
