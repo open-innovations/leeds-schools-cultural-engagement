{
 "cells": [
  {
   "cell_type": "code",
   "execution_count": 14,
   "metadata": {},
   "outputs": [],
   "source": [
    "import os \n",
    "import pandas as pd\n",
    "from pathlib import Path\n",
    "\n",
    "from survey_util import load_raw_survey_data, count_by_school_type, calculate_percentage, drop_duplicates"
   ]
  },
  {
   "cell_type": "code",
   "execution_count": 15,
   "metadata": {},
   "outputs": [],
   "source": [
    "# Define paths and base directories\n",
    "\n",
    "DATA_DIR = Path('../../data')\n",
    "SURVEY_DIR = DATA_DIR / 'survey'\n",
    "RAW_DIR = SURVEY_DIR / 'raw'\n",
    "\n",
    "VIZ_DIR = Path('../../src/_data/viz/survey/phase_2')\n",
    "\n",
    "raw_data = load_raw_survey_data()\n",
    "base_respondents = len(raw_data)\n",
    "\n",
    "SCHOOLS_DATA = pd.read_csv(Path(DATA_DIR, 'leeds_schools_public.csv'))\n",
    "\n",
    "dfe_data = pd.read_csv(Path(DATA_DIR, 'spc_ees_school_characteristics.csv'), usecols={\n",
    "    'time_period', \n",
    "    'la_name',\n",
    "    'school_urn',\n",
    "    'school_name',\n",
    "    'phase_type_grouping',\n",
    "    'typeofestablishment_name',\n",
    "    'ward_code',\n",
    "    'ward_name',\n",
    "    'school_postcode',\n",
    "    'school_size'\n",
    "})\n"
   ]
  },
  {
   "cell_type": "code",
   "execution_count": 16,
   "metadata": {},
   "outputs": [],
   "source": [
    "headline_questions = [\n",
    "    '05_overall_rating_arts_offer', #excellent good\n",
    "    '06_pupil_arts_entitlement', # yes no \n",
    "    '07_additional_arts_funding', #yesno\n",
    "    '10_signposting_beyond_curriculum', #yesno\n",
    "    # '13_arts_facilities', #list of facilities\n",
    "    '14_rating_extra_curricular_arts_enrichment_offering', #excellent good\n",
    "    '16_arts_award', #yesno\n",
    "    '18_external_orgs_arts_performances', #yesno\n",
    "    # '18a_arts_performance_external_org_subject_areas', #list of subjects\n",
    "    '24_partnerships_external_orgs', #yesno\n",
    "]\n"
   ]
  },
  {
   "cell_type": "code",
   "execution_count": 17,
   "metadata": {},
   "outputs": [],
   "source": [
    "# Handle duplicates\n",
    "raw_data_deduped = drop_duplicates(raw_data)"
   ]
  },
  {
   "cell_type": "markdown",
   "metadata": {},
   "source": [
    "Headline stats"
   ]
  },
  {
   "cell_type": "code",
   "execution_count": 18,
   "metadata": {},
   "outputs": [],
   "source": [
    "\n",
    "# Calculate values for headlines, out of total survey responses\n",
    "excellent_arts_curriculum = int(((raw_data['05_overall_rating_arts_offer'].value_counts().Excellent) / base_respondents * 100))\n",
    "pupil_arts_entitlement = int((len(raw_data.loc[raw_data['06_pupil_arts_entitlement']=='Yes']) / base_respondents * 100))\n",
    "additional_arts_funding = int((len(raw_data.loc[raw_data['07_additional_arts_funding']=='Yes']) / base_respondents * 100))\n",
    "signposting_beyond_curriculum = int((len(raw_data.loc[raw_data['10_signposting_beyond_curriculum']=='Yes']) / base_respondents * 100))\n",
    "excellent_extra_curricular_arts = int(((raw_data['14_rating_extra_curricular_arts_enrichment_offering'].value_counts().Excellent) / base_respondents * 100))\n",
    "arts_award = int((len(raw_data.loc[raw_data['16_arts_award']=='Yes']) / base_respondents * 100))\n",
    "external_orgs_arts_performances = int((len(raw_data.loc[raw_data['18_external_orgs_arts_performances']=='Yes']) / base_respondents * 100))\n",
    "partnerships_external_orgs = int((len(raw_data.loc[raw_data['24_partnerships_external_orgs']=='Yes']) / base_respondents * 100))\n",
    "\n",
    "headlines_data = {\n",
    "    'Title': [\n",
    "        \"Arts curriculum\",\n",
    "        \"Arts entitlement\",\n",
    "        \"Additional arts funding\",\n",
    "        \"Signposting\",\n",
    "        \"Extra-curricular offering\",\n",
    "        \"Arts award\",\n",
    "        \"External practitioners\",\n",
    "        \"Local partnerships\",\n",
    "    ],\n",
    "    'Value': [\n",
    "        excellent_arts_curriculum,\n",
    "        pupil_arts_entitlement,\n",
    "        additional_arts_funding,\n",
    "        signposting_beyond_curriculum,\n",
    "        excellent_extra_curricular_arts,\n",
    "        arts_award,\n",
    "        external_orgs_arts_performances,\n",
    "        partnerships_external_orgs\n",
    "    ],\n",
    "    'Note': [\n",
    "        \"Rated their arts curriculum as Excellent\",\n",
    "        \"Said they have a commitment to pupil entitlement in the arts\",\n",
    "        \"Said they seek additional funding for arts curriculum and enrichment\",\n",
    "        \"Said they sign-post additional creative opportunities for students\",\n",
    "        \"Rated their extra-curricular arts offering as Excellent\",\n",
    "        \"Said their school offers an Arts Award\",\n",
    "        \"Said they invited external creative practitioners into the school\",\n",
    "        \"Said their school has a partnership with local arts organisations\"\n",
    "    ],\n",
    "    'Suffix': '%'\n",
    "}\n",
    "\n",
    "headlines_index = headline_questions[:8]\n",
    "\n",
    "headlines = pd.DataFrame(headlines_data, index=pd.Index(headlines_index, name='Question'))\n",
    "\n",
    "headlines.to_csv(os.path.join(VIZ_DIR, 'headlines.csv'))\n"
   ]
  },
  {
   "cell_type": "markdown",
   "metadata": {},
   "source": [
    "## Overview of Respondents"
   ]
  },
  {
   "cell_type": "markdown",
   "metadata": {},
   "source": [
    "Survey responses by school type"
   ]
  },
  {
   "cell_type": "code",
   "execution_count": 19,
   "metadata": {},
   "outputs": [],
   "source": [
    "# Responses broken down by school type\n",
    "\n",
    "by_school_type = pd.DataFrame({\n",
    "    'total_respondents' : raw_data_deduped.groupby('03_school_type')['03_school_type'].count(),\n",
    "    'percent_respondents': raw_data_deduped.groupby('03_school_type')['03_school_type'].count().div(base_respondents).mul(100).round(0).astype(int),\n",
    "    'unit': '%',\n",
    "    'notes': [\n",
    "        'of survey respondents were from a Primary school',\n",
    "        'of survey respondents were from a Secondary school',\n",
    "        'of survey respondents were from a Special school',\n",
    "        'of survey respondents were from a Through school'\n",
    "    ]\n",
    "}).to_csv(os.path.join(VIZ_DIR, 'by_school_type.csv'))"
   ]
  },
  {
   "cell_type": "markdown",
   "metadata": {},
   "source": [
    "## Arts Provision in Schools\n",
    "\n",
    "Commitment to the arts"
   ]
  },
  {
   "cell_type": "code",
   "execution_count": 20,
   "metadata": {},
   "outputs": [
    {
     "name": "stderr",
     "output_type": "stream",
     "text": [
      "C:\\Users\\oi-user\\AppData\\Local\\Temp\\ipykernel_21392\\2966034304.py:3: FutureWarning: The default value of numeric_only in DataFrameGroupBy.mean is deprecated. In a future version, numeric_only will default to False. Either specify numeric_only or select only columns which should be valid for the function.\n",
      "  pd.read_csv(Path(VIZ_DIR, '05_overall_rating_arts_offer.csv'))\n"
     ]
    }
   ],
   "source": [
    "# 05_overall_rating_arts_offer - deduped data\n",
    "overall_rating_arts_offer = (\n",
    "    pd.read_csv(Path(VIZ_DIR, '05_overall_rating_arts_offer.csv'))\n",
    "    .pivot_table(columns='School Type')\n",
    "    .reset_index()\n",
    "    .rename(columns={'index': 'Rating'})\n",
    ")\n",
    "\n",
    "overall_rating_arts_offer['Suffix'] = '%'\n",
    "overall_rating_arts_offer.to_csv(Path(VIZ_DIR, 'overall_rating_arts_offer.csv'), index=False)\n"
   ]
  },
  {
   "cell_type": "code",
   "execution_count": 21,
   "metadata": {},
   "outputs": [
    {
     "name": "stderr",
     "output_type": "stream",
     "text": [
      "C:\\Users\\oi-user\\AppData\\Local\\Temp\\ipykernel_21392\\1043124538.py:4: FutureWarning: The default value of numeric_only in DataFrameGroupBy.mean is deprecated. In a future version, numeric_only will default to False. Either specify numeric_only or select only columns which should be valid for the function.\n",
      "  pd.read_csv(Path(VIZ_DIR, '14_rating_extra_curricular_arts_enrichment_offering.csv'))\n"
     ]
    }
   ],
   "source": [
    "# 14_rating_extra_curricular_arts_enrichment_offering - deduped data\n",
    "\n",
    "rating_extra_curricular_arts_enrichment_offering = (\n",
    "    pd.read_csv(Path(VIZ_DIR, '14_rating_extra_curricular_arts_enrichment_offering.csv'))\n",
    "    .pivot_table(columns='School Type')\n",
    "    .reset_index()\n",
    "    .rename(columns={'index': 'Rating'})\n",
    ")\n",
    "\n",
    "rating_extra_curricular_arts_enrichment_offering['Suffix'] = '%'\n",
    "rating_extra_curricular_arts_enrichment_offering.to_csv(Path(VIZ_DIR, 'rating_extra_curricular_arts_enrichment_offering.csv'), index=False)\n"
   ]
  },
  {
   "cell_type": "markdown",
   "metadata": {},
   "source": [
    "Signposting headlines"
   ]
  },
  {
   "cell_type": "code",
   "execution_count": 22,
   "metadata": {},
   "outputs": [],
   "source": [
    "# Signposting headlines - percentage of total survey responses\n",
    "\n",
    "signposting = raw_data.loc[raw_data['10_signposting_beyond_curriculum']=='Yes']\n",
    "competitions = raw_data.loc[raw_data['09_competitions_showcases']=='Yes']\n",
    "\n",
    "responses = pd.DataFrame({\n",
    "    'Competitions & Showcases' : [int(len(competitions)/base_respondents*100)],\n",
    "    'Signposting beyond the curriculum': [int(len(signposting)/base_respondents*100)]\n",
    "}).T.reset_index()\n",
    "\n",
    "responses.columns = ['Headlines', 'Values']\n",
    "\n",
    "Note = [\n",
    "        'of all respondents said their school actively sign-posts for pupils to develop creative skills and participate in arts opportunities beyond the curriculum',\n",
    "        'of all respondents said their school enters pupils into competitions or showcases - whether that is at a local community or regional/national level'\n",
    "    ]\n",
    "\n",
    "signposting_headlines = pd.DataFrame({\n",
    "    'Headlines': responses['Headlines'],\n",
    "    'Value': responses['Values'],\n",
    "    'Suffix': '%',\n",
    "    'Note': Note\n",
    "}).to_csv(Path(VIZ_DIR, 'signposting_headlines.csv'), index=False)\n"
   ]
  },
  {
   "cell_type": "markdown",
   "metadata": {},
   "source": [
    "External practitioners"
   ]
  },
  {
   "cell_type": "code",
   "execution_count": 23,
   "metadata": {},
   "outputs": [],
   "source": [
    "partnerships_external_orgs = raw_data.loc[raw_data['24_partnerships_external_orgs']=='Yes']\n",
    "external_orgs_arts_performances = raw_data.loc[raw_data['18_external_orgs_arts_performances']=='Yes']\n",
    "partnerships_local_schools = raw_data.loc[raw_data['25_partnerships_local_schools']=='Yes']\n",
    "\n",
    "responses = pd.DataFrame({\n",
    "    'Partnerships' : [int(len(partnerships_external_orgs)/base_respondents*100)],\n",
    "    'Delivering activities': [int(len(external_orgs_arts_performances)/base_respondents*100)],\n",
    "    'School partnerships': [int(len(partnerships_local_schools)/base_respondents*100)]\n",
    "}).T.reset_index()\n",
    "\n",
    "responses.columns = ['Headlines', 'Values']\n",
    "\n",
    "Note = [\n",
    "        'of all respondents said their school has a partnership with any local arts organisations',\n",
    "        'of all respondents said their school invited external practitioners to deliver creative activities',\n",
    "        'of all respondents said their school partners with other schools to support the arts curriculum'\n",
    "    ]\n",
    "\n",
    "signposting_headlines = pd.DataFrame({\n",
    "    'Headlines': responses['Headlines'],\n",
    "    'Value': responses['Values'],\n",
    "    'Suffix': '%',\n",
    "    'Note': Note\n",
    "}).to_csv(Path(VIZ_DIR, 'external_partnerships_headlines.csv'), index=False)"
   ]
  },
  {
   "cell_type": "markdown",
   "metadata": {},
   "source": [
    "Subject areas of the organisations and creative practitioners engaging with schools:"
   ]
  },
  {
   "cell_type": "code",
   "execution_count": 24,
   "metadata": {},
   "outputs": [
    {
     "data": {
      "text/html": [
       "<div>\n",
       "<style scoped>\n",
       "    .dataframe tbody tr th:only-of-type {\n",
       "        vertical-align: middle;\n",
       "    }\n",
       "\n",
       "    .dataframe tbody tr th {\n",
       "        vertical-align: top;\n",
       "    }\n",
       "\n",
       "    .dataframe thead th {\n",
       "        text-align: right;\n",
       "    }\n",
       "</style>\n",
       "<table border=\"1\" class=\"dataframe\">\n",
       "  <thead>\n",
       "    <tr style=\"text-align: right;\">\n",
       "      <th></th>\n",
       "      <th>Primary</th>\n",
       "      <th>Secondary</th>\n",
       "      <th>Special School</th>\n",
       "      <th>Through School</th>\n",
       "    </tr>\n",
       "    <tr>\n",
       "      <th>Subject Area</th>\n",
       "      <th></th>\n",
       "      <th></th>\n",
       "      <th></th>\n",
       "      <th></th>\n",
       "    </tr>\n",
       "  </thead>\n",
       "  <tbody>\n",
       "    <tr>\n",
       "      <th>Art</th>\n",
       "      <td>29</td>\n",
       "      <td>33</td>\n",
       "      <td>33</td>\n",
       "      <td>50</td>\n",
       "    </tr>\n",
       "    <tr>\n",
       "      <th>Dance</th>\n",
       "      <td>31</td>\n",
       "      <td>67</td>\n",
       "      <td>17</td>\n",
       "      <td>50</td>\n",
       "    </tr>\n",
       "    <tr>\n",
       "      <th>Design and Technology</th>\n",
       "      <td>14</td>\n",
       "      <td>17</td>\n",
       "      <td>0</td>\n",
       "      <td>0</td>\n",
       "    </tr>\n",
       "    <tr>\n",
       "      <th>Digital media and gaming</th>\n",
       "      <td>3</td>\n",
       "      <td>33</td>\n",
       "      <td>0</td>\n",
       "      <td>50</td>\n",
       "    </tr>\n",
       "    <tr>\n",
       "      <th>Film</th>\n",
       "      <td>3</td>\n",
       "      <td>0</td>\n",
       "      <td>0</td>\n",
       "      <td>0</td>\n",
       "    </tr>\n",
       "    <tr>\n",
       "      <th>Museum/Heritage</th>\n",
       "      <td>17</td>\n",
       "      <td>50</td>\n",
       "      <td>17</td>\n",
       "      <td>50</td>\n",
       "    </tr>\n",
       "    <tr>\n",
       "      <th>Music</th>\n",
       "      <td>51</td>\n",
       "      <td>67</td>\n",
       "      <td>50</td>\n",
       "      <td>100</td>\n",
       "    </tr>\n",
       "    <tr>\n",
       "      <th>Theatre</th>\n",
       "      <td>40</td>\n",
       "      <td>67</td>\n",
       "      <td>83</td>\n",
       "      <td>50</td>\n",
       "    </tr>\n",
       "  </tbody>\n",
       "</table>\n",
       "</div>"
      ],
      "text/plain": [
       "                          Primary  Secondary  Special School  Through School\n",
       "Subject Area                                                                \n",
       "Art                            29         33              33              50\n",
       "Dance                          31         67              17              50\n",
       "Design and Technology          14         17               0               0\n",
       "Digital media and gaming        3         33               0              50\n",
       "Film                            3          0               0               0\n",
       "Museum/Heritage                17         50              17              50\n",
       "Music                          51         67              50             100\n",
       "Theatre                        40         67              83              50"
      ]
     },
     "execution_count": 24,
     "metadata": {},
     "output_type": "execute_result"
    }
   ],
   "source": [
    "# Subject areas of external practitioners - deduped data\n",
    "\n",
    "subject_areas = raw_data_deduped[['02_school_name', '03_school_type', '18a_arts_performance_external_org_subject_areas']].dropna().reset_index()\n",
    "\n",
    "subject_areas['18a_arts_performance_external_org_subject_areas'] = subject_areas['18a_arts_performance_external_org_subject_areas'].str.split(',')\n",
    "subject_areas = subject_areas.explode('18a_arts_performance_external_org_subject_areas').drop(columns={'unique_response_number'})\n",
    "\n",
    "subject_areas = subject_areas.groupby(['03_school_type', '18a_arts_performance_external_org_subject_areas']).count().reset_index()\n",
    "\n",
    "subject_areas = subject_areas.rename(columns={\n",
    "    '03_school_type': 'School Type',\n",
    "    '18a_arts_performance_external_org_subject_areas': 'Subject Area',\n",
    "    '02_school_name': 'Count'\n",
    "})\n",
    "\n",
    "counts_by_school_type = count_by_school_type(raw_data_deduped)\n",
    "\n",
    "subject_areas['Percent'] = subject_areas.apply(lambda row: calculate_percentage(row, counts_by_school_type), axis=1)\n",
    "\n",
    "subject_areas = subject_areas.pivot_table(columns=['School Type'], index=['Subject Area'], values=['Percent']).reset_index().set_index('Subject Area')\n",
    "\n",
    "subject_areas.columns = ['Primary', 'Secondary', 'Special School', 'Through School']\n",
    "\n",
    "subject_areas = subject_areas.fillna(0).astype(int)\n",
    "\n",
    "subject_areas.to_csv(Path(VIZ_DIR, 'subject_areas_headlines.csv'), index=True)\n",
    "\n",
    "subject_areas\n"
   ]
  },
  {
   "cell_type": "markdown",
   "metadata": {},
   "source": [
    "Community arts programmes:"
   ]
  },
  {
   "cell_type": "code",
   "execution_count": 25,
   "metadata": {},
   "outputs": [],
   "source": [
    "# Community programs - total survey responses\n",
    "\n",
    "community_based_arts_programmes = raw_data.loc[raw_data['26_community_based_arts_programmes']=='Yes']\n",
    "national_arts_programmes = raw_data.loc[raw_data['23_national_programmes']=='Yes']\n",
    "\n",
    "responses = pd.DataFrame({\n",
    "    'Community-based arts programmes' : [int(len(community_based_arts_programmes)/base_respondents*100)],\n",
    "    'National arts programmes' : [int(len(national_arts_programmes)/base_respondents*100)],\n",
    "}).T.reset_index()\n",
    "\n",
    "responses.columns = ['Headlines', 'Values']\n",
    "\n",
    "Note = [\n",
    "        'of all respondents said their school is part of a local/community-based arts programme.',\n",
    "        'of all respondents said their school is part of a national arts programme.',\n",
    "    ]\n",
    "\n",
    "signposting_headlines = pd.DataFrame({\n",
    "    'Headlines': responses['Headlines'],\n",
    "    'Value': responses['Values'],\n",
    "    'Suffix': '%',\n",
    "    'Note': Note\n",
    "}).to_csv(Path(VIZ_DIR, 'community_programs_headlines.csv'), index=False)"
   ]
  },
  {
   "cell_type": "markdown",
   "metadata": {},
   "source": [
    "## Facilities"
   ]
  },
  {
   "cell_type": "code",
   "execution_count": null,
   "metadata": {},
   "outputs": [],
   "source": [
    "# Facilities - deduped data\n",
    "\n",
    "facilities = raw_data_deduped[['02_school_name', '03_school_type', '13_arts_facilities']].dropna().reset_index()\n",
    "\n",
    "facilities['13_arts_facilities'] = facilities['13_arts_facilities'].str.split(',')\n",
    "facilities = facilities.explode('13_arts_facilities').drop(columns={'unique_response_number'})\n",
    "\n",
    "facilities = facilities.groupby(['03_school_type', '13_arts_facilities']).count().reset_index()\n",
    "\n",
    "facilities = facilities.rename(columns={\n",
    "    '03_school_type': 'School Type',\n",
    "    '13_arts_facilities': 'Facilities',\n",
    "    '02_school_name': 'Count'\n",
    "})\n",
    "\n",
    "counts_by_school_type = count_by_school_type(raw_data_deduped)\n",
    "\n",
    "facilities['Percent'] = facilities.apply(lambda row: calculate_percentage(row, counts_by_school_type), axis=1)\n",
    "\n",
    "facilities = facilities.pivot_table(columns=['School Type'], index=['Facilities'], values=['Percent']).reset_index().set_index('Facilities')\n",
    "\n",
    "facilities.columns = ['Primary', 'Secondary', 'Special School', 'Through School']\n",
    "\n",
    "facilities = facilities.fillna(0).astype(int)\n",
    "\n",
    "facilities.to_csv(Path(VIZ_DIR, 'facilities_headlines.csv'), index=True)\n",
    "\n",
    "facilities"
   ]
  },
  {
   "cell_type": "code",
   "execution_count": 44,
   "metadata": {},
   "outputs": [],
   "source": [
    "# Facilities - deduped data\n",
    "\n",
    "facilities = raw_data_deduped[['02_school_name', '03_school_type', '13_arts_facilities']].dropna().reset_index()\n",
    "\n",
    "\n",
    "facilities['13_arts_facilities'] = facilities['13_arts_facilities'].str.split(',')\n",
    "facilities = facilities.explode('13_arts_facilities').drop(columns={'unique_response_number'})\n",
    "\n",
    "facilities = facilities.groupby(['03_school_type', '13_arts_facilities']).size().reset_index(name='Count')\n",
    "\n",
    "counts_by_school_type = count_by_school_type(raw_data_deduped)\n",
    "\n",
    "facilities['Total'] = facilities.groupby('03_school_type')['Count'].transform('sum').round(0)\n",
    "\n",
    "facilities['Percent'] = ((facilities['Count'] / facilities['Total']) * 100).round(0).astype(int)\n",
    "\n",
    "facilities_pivot = facilities.pivot_table(index='13_arts_facilities', columns='03_school_type', values='Percent', fill_value=0)\n",
    "\n",
    "# facilities_pivot['Total'] = facilities_pivot.sum(axis=1).round(0).astype(int)\n",
    "\n",
    "facilities_pivot.reset_index(inplace=True)\n",
    "\n",
    "facilities_pivot.columns.name = None \n",
    "facilities_pivot.rename(columns={'Primary': 'Primary', 'Secondary': 'Secondary', 'Special': 'Special School', 'Through': 'Through School'}, inplace=True)\n",
    "\n",
    "facilities_pivot.to_csv(Path(VIZ_DIR, 'facilities.csv'), index=False)\n"
   ]
  },
  {
   "cell_type": "markdown",
   "metadata": {},
   "source": [
    "## Funding & Support"
   ]
  },
  {
   "cell_type": "markdown",
   "metadata": {},
   "source": [
    "Funding sources for provision of art curriculum and enrichment activity:"
   ]
  }
 ],
 "metadata": {
  "kernelspec": {
   "display_name": "Python 3",
   "language": "python",
   "name": "python3"
  },
  "language_info": {
   "codemirror_mode": {
    "name": "ipython",
    "version": 3
   },
   "file_extension": ".py",
   "mimetype": "text/x-python",
   "name": "python",
   "nbconvert_exporter": "python",
   "pygments_lexer": "ipython3",
   "version": "3.10.8"
  },
  "orig_nbformat": 4
 },
 "nbformat": 4,
 "nbformat_minor": 2
}
