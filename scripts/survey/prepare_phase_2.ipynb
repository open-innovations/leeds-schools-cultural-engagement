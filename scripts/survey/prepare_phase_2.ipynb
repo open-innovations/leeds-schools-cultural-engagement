{
 "cells": [
  {
   "cell_type": "code",
   "execution_count": null,
   "metadata": {},
   "outputs": [],
   "source": [
    "import os \n",
    "import pandas as pd\n",
    "from pathlib import Path\n",
    "\n",
    "from survey_util import load_raw_survey_data, count_by_school_type, calculate_percentage\n",
    "from fuzzywuzzy import process"
   ]
  },
  {
   "cell_type": "code",
   "execution_count": null,
   "metadata": {},
   "outputs": [],
   "source": [
    "# Define paths and base directories\n",
    "\n",
    "DATA_DIR = Path('../../data')\n",
    "SURVEY_DIR = DATA_DIR / 'survey'\n",
    "RAW_DIR = SURVEY_DIR / 'raw'\n",
    "\n",
    "VIZ_DIR = Path('../../src/_data/viz/survey/phase_2')\n",
    "\n",
    "raw_data = load_raw_survey_data()\n",
    "base_respondents = len(raw_data)\n",
    "\n",
    "SCHOOLS_DATA = pd.read_csv(Path(DATA_DIR, 'leeds_schools_public.csv'))\n",
    "\n",
    "dfe_data = pd.read_csv(Path(DATA_DIR, 'spc_ees_school_characteristics.csv'), usecols={\n",
    "    'time_period', \n",
    "    'la_name',\n",
    "    'school_urn',\n",
    "    'school_name',\n",
    "    'phase_type_grouping',\n",
    "    'typeofestablishment_name',\n",
    "    'ward_code',\n",
    "    'ward_name',\n",
    "    'school_postcode',\n",
    "    'school_size'\n",
    "})\n"
   ]
  },
  {
   "cell_type": "code",
   "execution_count": null,
   "metadata": {},
   "outputs": [],
   "source": [
    "headline_questions = [\n",
    "    '05_overall_rating_arts_offer', #excellent good\n",
    "    '06_pupil_arts_entitlement', # yes no \n",
    "    '07_additional_arts_funding', #yesno\n",
    "    '10_signposting_beyond_curriculum', #yesno\n",
    "    # '13_arts_facilities', #list of facilities\n",
    "    '14_rating_extra_curricular_arts_enrichment_offering', #excellent good\n",
    "    '16_arts_award', #yesno\n",
    "    '18_external_orgs_arts_performances', #yesno\n",
    "    # '18a_arts_performance_external_org_subject_areas', #list of subjects\n",
    "    '24_partnerships_external_orgs', #yesno\n",
    "]\n"
   ]
  },
  {
   "cell_type": "markdown",
   "metadata": {},
   "source": [
    "Headline stats"
   ]
  },
  {
   "cell_type": "code",
   "execution_count": null,
   "metadata": {},
   "outputs": [],
   "source": [
    "\n",
    "# Calculate values for headlines\n",
    "excellent_arts_curriculum = int(((raw_data['05_overall_rating_arts_offer'].value_counts().Excellent) / base_respondents * 100))\n",
    "pupil_arts_entitlement = int((len(raw_data.loc[raw_data['06_pupil_arts_entitlement']=='Yes']) / base_respondents * 100))\n",
    "additional_arts_funding = int((len(raw_data.loc[raw_data['07_additional_arts_funding']=='Yes']) / base_respondents * 100))\n",
    "signposting_beyond_curriculum = int((len(raw_data.loc[raw_data['10_signposting_beyond_curriculum']=='Yes']) / base_respondents * 100))\n",
    "excellent_extra_curricular_arts = int(((raw_data['14_rating_extra_curricular_arts_enrichment_offering'].value_counts().Excellent) / base_respondents * 100))\n",
    "arts_award = int((len(raw_data.loc[raw_data['16_arts_award']=='Yes']) / base_respondents * 100))\n",
    "external_orgs_arts_performances = int((len(raw_data.loc[raw_data['18_external_orgs_arts_performances']=='Yes']) / base_respondents * 100))\n",
    "partnerships_external_orgs = int((len(raw_data.loc[raw_data['24_partnerships_external_orgs']=='Yes']) / base_respondents * 100))\n",
    "\n",
    "# Create DataFrame for headlines\n",
    "headlines_data = {\n",
    "    'Title': [\n",
    "        \"Arts curriculum\",\n",
    "        \"Arts entitlement\",\n",
    "        \"Additional arts funding\",\n",
    "        \"Signposting\",\n",
    "        \"Extra-curricular offering\",\n",
    "        \"Arts award\",\n",
    "        \"External practitioners\",\n",
    "        \"Local partnerships\",\n",
    "    ],\n",
    "    'Value': [\n",
    "        excellent_arts_curriculum,\n",
    "        pupil_arts_entitlement,\n",
    "        additional_arts_funding,\n",
    "        signposting_beyond_curriculum,\n",
    "        excellent_extra_curricular_arts,\n",
    "        arts_award,\n",
    "        external_orgs_arts_performances,\n",
    "        partnerships_external_orgs\n",
    "    ],\n",
    "    'Note': [\n",
    "        \"Rated their arts curriculum as Excellent\",\n",
    "        \"Said they have a commitment to pupil entitlement in the arts\",\n",
    "        \"Said they seek additional funding for arts curriculum and enrichment\",\n",
    "        \"Said they sign-post additional creative opportunities for students\",\n",
    "        \"Rated their extra-curricular arts offering as Excellent\",\n",
    "        \"Said their school offers an Arts Award\",\n",
    "        \"Said they invited external creative practitioners into the school\",\n",
    "        \"Said their school has a partnership with local arts organisations\"\n",
    "    ],\n",
    "    'Suffix': '%'\n",
    "}\n",
    "\n",
    "headlines_index = headline_questions[:8]\n",
    "\n",
    "headlines = pd.DataFrame(headlines_data, index=pd.Index(headlines_index, name='Question'))\n",
    "\n",
    "# Save to CSV\n",
    "headlines.to_csv(os.path.join(VIZ_DIR, 'headlines.csv'))\n"
   ]
  },
  {
   "cell_type": "markdown",
   "metadata": {},
   "source": [
    "## Overview of Respondents"
   ]
  },
  {
   "cell_type": "markdown",
   "metadata": {},
   "source": [
    "Survey responses by school type"
   ]
  },
  {
   "cell_type": "code",
   "execution_count": null,
   "metadata": {},
   "outputs": [],
   "source": [
    "def merge_with_fuzzy_matching(left_df, right_df, left_on, right_on, threshold=90):\n",
    "    merged_df = right_df.copy()\n",
    "    print(merged_df)\n",
    "\n",
    "    for left_index, left_row in left_df.iterrows():\n",
    "        left_value = left_row[left_on]\n",
    "\n",
    "        match, score = process.extractOne(left_value, merged_df[right_on])\n",
    "\n",
    "        if match and score >= threshold:\n",
    "            match_index = merged_df.index[merged_df[right_on] == match][0]\n",
    "\n",
    "            merged_df.loc[match_index, left_on] = left_value\n",
    "\n",
    "    merged_df = pd.merge(merged_df, left_df, how='outer', left_on=right_on, right_on=left_on)\n",
    "\n",
    "    return merged_df"
   ]
  },
  {
   "cell_type": "markdown",
   "metadata": {},
   "source": [
    "## Arts Provision in Schools\n",
    "\n",
    "Commitment to the arts"
   ]
  },
  {
   "cell_type": "code",
   "execution_count": null,
   "metadata": {},
   "outputs": [],
   "source": [
    "# bar_charts = [\n",
    "#     '05_overall_rating_arts_offer',\n",
    "#     '14_rating_extra_curricular_arts_enrichment_offering'\n",
    "# ]\n",
    "\n",
    "# for chart in bar_charts:\n",
    "#     data = pd.read_csv(Path(VIZ_DIR, f'{chart}.csv'), index_col='School Type').drop(columns={'suffix'})\n",
    "#     data = data.T\n",
    "#     data['Suffix'] = '%'\n",
    "#     data.reset_index().rename(columns={'index':'Rating'}).to_csv(Path(VIZ_DIR, f'{chart}.csv'), index=False)"
   ]
  },
  {
   "cell_type": "markdown",
   "metadata": {},
   "source": [
    "Signposting headlines"
   ]
  },
  {
   "cell_type": "code",
   "execution_count": null,
   "metadata": {},
   "outputs": [],
   "source": [
    "signposting = raw_data.loc[raw_data['10_signposting_beyond_curriculum']=='Yes']\n",
    "competitions = raw_data.loc[raw_data['09_competitions_showcases']=='Yes']\n",
    "\n",
    "responses = pd.DataFrame({\n",
    "    'Competitions & Showcases' : [int(len(competitions)/base_respondents*100)],\n",
    "    'Signposting beyond the curriculum': [int(len(signposting)/base_respondents*100)]\n",
    "}).T.reset_index()\n",
    "\n",
    "responses.columns = ['Headlines', 'Values']\n",
    "\n",
    "Note = [\n",
    "        'of schools actively sign-post for pupils to develop creative skills and participate in arts opportunities beyond the curriculum',\n",
    "        'of schools enter pupils into competitions or showcases - whether that is at a local community or regional/national level'\n",
    "    ]\n",
    "\n",
    "signposting_headlines = pd.DataFrame({\n",
    "    'Headlines': responses['Headlines'],\n",
    "    'Value': responses['Values'],\n",
    "    'Suffix': '%',\n",
    "    'Note': Note\n",
    "}).to_csv(Path(VIZ_DIR, 'signposting_headlines.csv'), index=False)\n"
   ]
  },
  {
   "cell_type": "markdown",
   "metadata": {},
   "source": [
    "External practitioners"
   ]
  },
  {
   "cell_type": "code",
   "execution_count": null,
   "metadata": {},
   "outputs": [],
   "source": [
    "partnerships_external_orgs = raw_data.loc[raw_data['24_partnerships_external_orgs']=='Yes']\n",
    "external_orgs_arts_performances = raw_data.loc[raw_data['18_external_orgs_arts_performances']=='Yes']\n",
    "partnerships_local_schools = raw_data.loc[raw_data['25_partnerships_local_schools']=='Yes']\n",
    "\n",
    "responses = pd.DataFrame({\n",
    "    'Partnerships' : [int(len(partnerships_external_orgs)/base_respondents*100)],\n",
    "    'Delivering activities': [int(len(external_orgs_arts_performances)/base_respondents*100)],\n",
    "    'School partnerships': [int(len(partnerships_local_schools)/base_respondents*100)]\n",
    "}).T.reset_index()\n",
    "\n",
    "responses.columns = ['Headlines', 'Values']\n",
    "\n",
    "Note = [\n",
    "        'of all respondents said their school has a partnership with any local arts organisations',\n",
    "        'of all respondents said their school invited external practitioners to deliver creative activities',\n",
    "        'of all respondents said their school partners with other schools to support the arts curriculum'\n",
    "    ]\n",
    "\n",
    "signposting_headlines = pd.DataFrame({\n",
    "    'Headlines': responses['Headlines'],\n",
    "    'Value': responses['Values'],\n",
    "    'Suffix': '%',\n",
    "    'Note': Note\n",
    "}).to_csv(Path(VIZ_DIR, 'external_partnerships_headlines.csv'), index=False)"
   ]
  },
  {
   "cell_type": "markdown",
   "metadata": {},
   "source": [
    "Subject areas of the organisations and creative practitioners engaging with schools:"
   ]
  },
  {
   "cell_type": "code",
   "execution_count": null,
   "metadata": {},
   "outputs": [],
   "source": [
    "# Select columns and drop rows with NaN values\n",
    "subject_areas = raw_data[['02_school_name', '03_school_type', '18a_arts_performance_external_org_subject_areas']].dropna().reset_index()\n",
    "\n",
    "# Split the '18a_arts_performance_external_org_subject_areas' column by comma and explode\n",
    "subject_areas['18a_arts_performance_external_org_subject_areas'] = subject_areas['18a_arts_performance_external_org_subject_areas'].str.split(',')\n",
    "subject_areas = subject_areas.explode('18a_arts_performance_external_org_subject_areas').drop(columns={'unique_response_number'})\n",
    "\n",
    "# Group by 'School Type' and 'Subject Area', count and reset index\n",
    "subject_areas = subject_areas.groupby(['03_school_type', '18a_arts_performance_external_org_subject_areas']).count().reset_index()\n",
    "\n",
    "# Rename columns\n",
    "subject_areas = subject_areas.rename(columns={\n",
    "    '03_school_type': 'School Type',\n",
    "    '18a_arts_performance_external_org_subject_areas': 'Subject Area',\n",
    "    '02_school_name': 'Count'\n",
    "})\n",
    "\n",
    "# Get counts by school type\n",
    "counts_by_school_type = count_by_school_type(raw_data)\n",
    "\n",
    "# Calculate  percentage of each school type relative\n",
    "subject_areas['Percent'] = subject_areas.apply(lambda row: calculate_percentage(row, counts_by_school_type), axis=1)\n",
    "\n",
    "# Pivot the table\n",
    "subject_areas = subject_areas.pivot_table(columns=['School Type'], index=['Subject Area'], values=['Percent']).reset_index().set_index('Subject Area')\n",
    "\n",
    "# Set column names\n",
    "subject_areas.columns = ['Primary', 'Secondary', 'Special School', 'Through School']\n",
    "\n",
    "# Convert to int and replace na with 0 values\n",
    "subject_areas = subject_areas.fillna(0).astype(int)\n",
    "\n",
    "# Save to CSV\n",
    "subject_areas.to_csv(Path(VIZ_DIR, 'subject_areas_headlines.csv'), index=True)\n",
    "\n",
    "# Return the DataFrame\n",
    "subject_areas\n"
   ]
  },
  {
   "cell_type": "markdown",
   "metadata": {},
   "source": [
    "Community arts programmes:"
   ]
  },
  {
   "cell_type": "code",
   "execution_count": null,
   "metadata": {},
   "outputs": [],
   "source": [
    "community_based_arts_programmes = raw_data.loc[raw_data['26_community_based_arts_programmes']=='Yes']\n",
    "national_arts_programmes = raw_data.loc[raw_data['23_national_programmes']=='Yes']\n",
    "\n",
    "responses = pd.DataFrame({\n",
    "    'Community-based arts programmes' : [int(len(community_based_arts_programmes)/base_respondents*100)],\n",
    "    'National arts programmes' : [int(len(national_arts_programmes)/base_respondents*100)],\n",
    "}).T.reset_index()\n",
    "\n",
    "responses.columns = ['Headlines', 'Values']\n",
    "\n",
    "Note = [\n",
    "        'of all respondents said their school is part of a local/community-based arts programme.',\n",
    "        'of all respondents said their school is part of a national arts programme.',\n",
    "    ]\n",
    "\n",
    "signposting_headlines = pd.DataFrame({\n",
    "    'Headlines': responses['Headlines'],\n",
    "    'Value': responses['Values'],\n",
    "    'Suffix': '%',\n",
    "    'Note': Note\n",
    "}).to_csv(Path(VIZ_DIR, 'community_programs_headlines.csv'), index=False)"
   ]
  },
  {
   "cell_type": "markdown",
   "metadata": {},
   "source": [
    "## Facilities"
   ]
  },
  {
   "cell_type": "code",
   "execution_count": null,
   "metadata": {},
   "outputs": [],
   "source": [
    "facilities = raw_data[['02_school_name', '03_school_type', '13_arts_facilities']].dropna().reset_index()\n",
    "\n",
    "\n",
    "facilities['13_arts_facilities'] = facilities['13_arts_facilities'].str.split(',')\n",
    "facilities = facilities.explode('13_arts_facilities').drop(columns={'unique_response_number'})\n",
    "\n",
    "# Group by 'School Type' and 'Funding Sources', count and reset index\n",
    "facilities = facilities.groupby(['03_school_type', '13_arts_facilities']).size().reset_index(name='Count')\n",
    "\n",
    "# # Get counts by school type\n",
    "counts_by_school_type = count_by_school_type(raw_data)\n",
    "\n",
    "# # Calculate the total count of each funding source within its school type category\n",
    "facilities['Total'] = facilities.groupby('03_school_type')['Count'].transform('sum').round(0)\n",
    "\n",
    "# # Calculate the percentage of each funding source within its school type category\n",
    "facilities['Percent'] = ((facilities['Count'] / facilities['Total']) * 100).round(0).astype(int)\n",
    "\n",
    "# # Pivot the table\n",
    "facilities_pivot = facilities.pivot_table(index='13_arts_facilities', columns='03_school_type', values='Percent', fill_value=0)\n",
    "\n",
    "# # Calculate the total percentage across all categories\n",
    "facilities_pivot['Total'] = facilities_pivot.sum(axis=1).round(0).astype(int)\n",
    "\n",
    "# # Reset index\n",
    "facilities_pivot.reset_index(inplace=True)\n",
    "\n",
    "# # Rename columns\n",
    "facilities_pivot.columns.name = None  # Remove the column name\n",
    "facilities_pivot.rename(columns={'Primary': 'Primary School', 'Secondary': 'Secondary School', 'Special': 'Special School', 'Through': 'Through School'}, inplace=True)\n",
    "\n",
    "# Save to CSV\n",
    "facilities.to_csv(Path(VIZ_DIR, 'facilities.csv'), index=False)\n",
    "\n",
    "# Display the DataFrame\n",
    "facilities"
   ]
  },
  {
   "cell_type": "code",
   "execution_count": null,
   "metadata": {},
   "outputs": [],
   "source": [
    "facilities = raw_data[['02_school_name', '03_school_type', '13_arts_facilities']].dropna().reset_index()\n",
    "\n",
    "facilities['13_arts_facilities'] = facilities['13_arts_facilities'].str.split(',')\n",
    "facilities = facilities.explode('13_arts_facilities').drop(columns={'unique_response_number'})\n",
    "\n",
    "facilities_counts = facilities.groupby(['03_school_type', '13_arts_facilities']).size().reset_index(name='Count')\n",
    "\n",
    "counts_by_school_type = count_by_school_type(raw_data)\n",
    "\n",
    "facilities_counts['Total'] = facilities_counts.groupby('03_school_type')['Count'].transform('sum').round(0)\n",
    "\n",
    "facilities_counts['Percent'] = ((facilities_counts['Count'] / facilities_counts['Total']) * 100).round(0)\n",
    "\n",
    "facilities_pivot = facilities_counts.pivot_table(index='13_arts_facilities', columns='03_school_type', values='Percent', fill_value=0)\n",
    "\n",
    "facilities_pivot['Total'] = facilities_pivot.sum(axis=1).round(0).astype(int)\n",
    "\n",
    "facilities_pivot.reset_index(inplace=True)\n",
    "\n",
    "facilities_pivot.columns.name = None  \n",
    "facilities_pivot.rename(columns={'Primary': 'Primary School', 'Secondary': 'Secondary School', 'Special': 'Special School', 'Through': 'Through School'}, inplace=True)\n",
    "\n",
    "facilities_pivot['Suffix'] = '%'\n",
    "\n",
    "\n",
    "facilities_pivot.to_csv(Path(VIZ_DIR, 'arts_facilities.csv'), index=False)\n",
    "\n",
    "facilities_pivot"
   ]
  },
  {
   "cell_type": "markdown",
   "metadata": {},
   "source": [
    "## Funding & Support"
   ]
  },
  {
   "cell_type": "markdown",
   "metadata": {},
   "source": [
    "Funding sources for provision of art curriculum and enrichment activity:"
   ]
  },
  {
   "cell_type": "code",
   "execution_count": null,
   "metadata": {},
   "outputs": [],
   "source": [
    "# To add"
   ]
  }
 ],
 "metadata": {
  "kernelspec": {
   "display_name": "Python 3",
   "language": "python",
   "name": "python3"
  },
  "language_info": {
   "codemirror_mode": {
    "name": "ipython",
    "version": 3
   },
   "file_extension": ".py",
   "mimetype": "text/x-python",
   "name": "python",
   "nbconvert_exporter": "python",
   "pygments_lexer": "ipython3",
   "version": "3.10.8"
  },
  "orig_nbformat": 4
 },
 "nbformat": 4,
 "nbformat_minor": 2
}
