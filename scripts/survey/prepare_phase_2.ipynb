{
 "cells": [
  {
   "cell_type": "code",
   "execution_count": 65,
   "metadata": {},
   "outputs": [],
   "source": [
    "import os \n",
    "import pandas as pd\n",
    "from pathlib import Path\n",
    "\n",
    "from survey_util import load_raw_survey_data"
   ]
  },
  {
   "cell_type": "code",
   "execution_count": 66,
   "metadata": {},
   "outputs": [],
   "source": [
    "# Define paths and base directories\n",
    "\n",
    "DATA_DIR = Path('../../data')\n",
    "SURVEY_DIR = DATA_DIR / 'survey'\n",
    "RAW_DIR = SURVEY_DIR / 'raw'\n",
    "\n",
    "VIZ_DIR = Path('../../src/_data/viz/survey/phase_2')\n",
    "\n",
    "raw_data = load_raw_survey_data()\n",
    "base_respondents = len(raw_data)\n"
   ]
  },
  {
   "cell_type": "code",
   "execution_count": 67,
   "metadata": {},
   "outputs": [],
   "source": [
    "headline_questions = [\n",
    "    '05_overall_rating_arts_offer', #excellent good\n",
    "    '06_pupil_arts_entitlement', # yes no \n",
    "    '07_additional_arts_funding', #yesno\n",
    "    '10_signposting_beyond_curriculum', #yesno\n",
    "    # '13_arts_facilities', #list of facilities\n",
    "    '14_rating_extra_curricular_arts_enrichment_offering', #excellent good\n",
    "    '16_arts_award', #yesno\n",
    "    '18_external_orgs_arts_performances', #yesno\n",
    "    # '18a_arts_performance_external_org_subject_areas', #list of subjects\n",
    "    '24_partnerships_external_orgs', #yesno\n",
    "]\n"
   ]
  },
  {
   "cell_type": "code",
   "execution_count": 68,
   "metadata": {},
   "outputs": [],
   "source": [
    "\n",
    "# Calculate values for headlines\n",
    "excellent_arts_curriculum = ((raw_data['05_overall_rating_arts_offer'].value_counts().Excellent) / base_respondents * 100).round(0).astype(int)\n",
    "pupil_arts_entitlement = len(raw_data.loc[raw_data['06_pupil_arts_entitlement']=='Yes'])\n",
    "additional_arts_funding = len(raw_data.loc[raw_data['07_additional_arts_funding']=='Yes'])\n",
    "signposting_beyond_curriculum = len(raw_data.loc[raw_data['10_signposting_beyond_curriculum']=='Yes'])\n",
    "excellent_extra_curricular_arts = ((raw_data['14_rating_extra_curricular_arts_enrichment_offering'].value_counts().Excellent) / base_respondents * 100).round(0).astype(int)\n",
    "arts_award = len(raw_data.loc[raw_data['16_arts_award']=='Yes'])\n",
    "external_orgs_arts_performances = len(raw_data.loc[raw_data['18_external_orgs_arts_performances']=='Yes'])\n",
    "partnerships_external_orgs = len(raw_data.loc[raw_data['24_partnerships_external_orgs']=='Yes'])\n",
    "\n",
    "# Create DataFrame for headlines\n",
    "headlines_data = {\n",
    "    'Title': [\n",
    "        \"Arts curriculum\",\n",
    "        \"Pupil arts entitlement\",\n",
    "        \"Additional arts funding\",\n",
    "        \"Signposting beyond the curriculum\",\n",
    "        \"Extra-curricular arts offering\",\n",
    "        \"Arts award\",\n",
    "        \"External practitioners\",\n",
    "        \"Local partnerships\",\n",
    "    ],\n",
    "    'Value': [\n",
    "        excellent_arts_curriculum,\n",
    "        pupil_arts_entitlement,\n",
    "        additional_arts_funding,\n",
    "        signposting_beyond_curriculum,\n",
    "        excellent_extra_curricular_arts,\n",
    "        arts_award,\n",
    "        external_orgs_arts_performances,\n",
    "        partnerships_external_orgs\n",
    "    ],\n",
    "    'Note': [\n",
    "        \"Rated their arts curriculum as Excellent\",\n",
    "        \"Said they have a commitment to pupil entitlement in the arts\",\n",
    "        \"Said they seek additional funding for arts curriculum and enrichment\",\n",
    "        \"Said they sign-post additional creative opportunities for students\",\n",
    "        \"Rated their extra-curricular arts offering as Excellent\",\n",
    "        \"Said their school offers an Arts Award\",\n",
    "        \"Said they invited external creative practitioners into the school\",\n",
    "        \"Said their school has a partnership with local arts organisations\"\n",
    "    ],\n",
    "    'Suffix': '%'\n",
    "}\n",
    "\n",
    "headlines_index = headline_questions[:8]\n",
    "\n",
    "headlines = pd.DataFrame(headlines_data, index=pd.Index(headlines_index, name='Question'))\n",
    "\n",
    "# Save to CSV\n",
    "headlines.to_csv(os.path.join(VIZ_DIR, 'headlines.csv'))\n"
   ]
  },
  {
   "cell_type": "code",
   "execution_count": null,
   "metadata": {},
   "outputs": [],
   "source": []
  }
 ],
 "metadata": {
  "kernelspec": {
   "display_name": "Python 3",
   "language": "python",
   "name": "python3"
  },
  "language_info": {
   "codemirror_mode": {
    "name": "ipython",
    "version": 3
   },
   "file_extension": ".py",
   "mimetype": "text/x-python",
   "name": "python",
   "nbconvert_exporter": "python",
   "pygments_lexer": "ipython3",
   "version": "3.10.8"
  },
  "orig_nbformat": 4
 },
 "nbformat": 4,
 "nbformat_minor": 2
}
